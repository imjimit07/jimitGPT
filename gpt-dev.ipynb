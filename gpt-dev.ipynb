{
 "cells": [
  {
   "cell_type": "code",
   "execution_count": 1,
   "id": "dcf249b5",
   "metadata": {},
   "outputs": [
    {
     "name": "stdout",
     "output_type": "stream",
     "text": [
      "cpu\n"
     ]
    }
   ],
   "source": [
    "import torch\n",
    "import torch.nn as nn\n",
    "from torch.nn import functional as F\n",
    "device = 'cuda' if torch.cuda.is_available() else 'cpu'\n",
    "print(device)\n",
    "block_size = 8\n",
    "batch_size = 4\n",
    "max_iters = 1000\n",
    "# eval_interval = 2500\n",
    "learning_rate = 3e-4\n",
    "eval_iters = 250"
   ]
  },
  {
   "cell_type": "code",
   "execution_count": 2,
   "id": "23fd7fbc",
   "metadata": {},
   "outputs": [
    {
     "name": "stdout",
     "output_type": "stream",
     "text": [
      "['\\n', ' ', '!', '\"', '&', \"'\", '(', ')', '*', ',', '-', '.', '0', '1', '2', '3', '4', '5', '6', '7', '8', '9', ':', ';', '?', 'A', 'B', 'C', 'D', 'E', 'F', 'G', 'H', 'I', 'J', 'K', 'L', 'M', 'N', 'O', 'P', 'Q', 'R', 'S', 'T', 'U', 'V', 'W', 'X', 'Y', 'Z', '[', ']', '_', 'a', 'b', 'c', 'd', 'e', 'f', 'g', 'h', 'i', 'j', 'k', 'l', 'm', 'n', 'o', 'p', 'q', 'r', 's', 't', 'u', 'v', 'w', 'x', 'y', 'z']\n"
     ]
    }
   ],
   "source": [
    "with open('wizard_of_oz.txt', 'r', encoding='utf-8') as f:\n",
    "    text = f.read()\n",
    "chars = sorted(set(text))\n",
    "print(chars)\n",
    "vocab_size = len(chars)"
   ]
  },
  {
   "cell_type": "code",
   "execution_count": 5,
   "id": "5078b151",
   "metadata": {},
   "outputs": [],
   "source": [
    "string_to_int = { ch:i for i,ch in enumerate(chars) }\n",
    "int_to_string = { i:ch for i,ch in enumerate(chars) }\n",
    "encode = lambda s: [string_to_int[c] for c in s]\n",
    "decode = lambda l: ''.join([int_to_string[i] for i in l])\n",
    "\n",
    "data = torch.tensor(encode(text), dtype=torch.long)\n",
    "#print(data[:100])"
   ]
  },
  {
   "cell_type": "code",
   "execution_count": 6,
   "id": "ee8bee6b",
   "metadata": {},
   "outputs": [
    {
     "name": "stdout",
     "output_type": "stream",
     "text": [
      "inputs:\n",
      "tensor([[ 1, 73, 58, 54, 71, 10, 57, 71],\n",
      "        [73,  1, 57, 58, 59, 58, 54, 73],\n",
      "        [67, 60, 11,  1, 32, 58,  1, 71],\n",
      "        [58, 71,  9,  1, 54, 67, 57,  1]])\n",
      "targets:\n",
      "tensor([[73, 58, 54, 71, 10, 57, 71, 68],\n",
      "        [ 1, 57, 58, 59, 58, 54, 73, 58],\n",
      "        [60, 11,  1, 32, 58,  1, 71, 58],\n",
      "        [71,  9,  1, 54, 67, 57,  1, 54]])\n"
     ]
    }
   ],
   "source": [
    "n = int(0.8*len(data))\n",
    "train_data = data[:n]\n",
    "val_data = data[n:]\n",
    "\n",
    "def get_batch(split):\n",
    "    data = train_data if split == 'train' else val_data\n",
    "    ix = torch.randint(len(data) - block_size, (batch_size,))\n",
    "    x = torch.stack([data[i:i+block_size] for i in ix])\n",
    "    y = torch.stack([data[i+1:i+block_size+1] for i in ix])\n",
    "    x, y = x.to(device), y.to(device)\n",
    "    return x, y\n",
    "\n",
    "x, y = get_batch('train')\n",
    "print('inputs:')\n",
    "# print(x.shape)\n",
    "print(x)\n",
    "print('targets:')\n",
    "print(y)\n",
    "\n"
   ]
  },
  {
   "cell_type": "code",
   "execution_count": 7,
   "id": "fc7bae87",
   "metadata": {},
   "outputs": [],
   "source": [
    "@torch.no_grad()\n",
    "def estimate_loss():\n",
    "    out = {}\n",
    "    model.eval()\n",
    "    for split in ['train', 'val']:\n",
    "        losses = torch.zeros(eval_iters)\n",
    "        for k in range(eval_iters):\n",
    "            X, Y = get_batch(split)\n",
    "            logits, loss = model(X, Y)\n",
    "            losses[k] = loss.item()\n",
    "        out[split] = losses.mean()\n",
    "    model.train()\n",
    "    return out"
   ]
  },
  {
   "cell_type": "code",
   "execution_count": 8,
   "id": "e00b2add",
   "metadata": {},
   "outputs": [
    {
     "name": "stdout",
     "output_type": "stream",
     "text": [
      "\n",
      "6m4?IIhy\n",
      "Sxhh&Z;\"0b1PviwAO.Rh:SoHWZ\"9w;IwA_b:F;TwAXkXJ8LE *5yplG58sP6iciw]u0bzcgLoFm\"-; dsgr[Zsiw,(1a41jyz&G!_&5Zc5U)SEN)*De:NB\"Ylvf1]!aJm,KbLoAPEuqB0stOr[AKOG7o3VCRa1g*5!IZHzQ2:?33,PuCL(p'S-[Zg:OIa.Mlzc ,oB'SGq)2&vMlIm,(FmC0:W Y1PXf[WA(?_12!aWw_:bX?4\n",
      "B0d(0BEZ1l_E96XL.L\n",
      "iD'z0WTHWqn,yp!St&QWX*aeJdxmIII(12?*,1G[CC_-vxQnaKSK?_wEp2iyBE8T[A'aSaJNLrjvF2Mv!:&02UIvX*F5USp2klY2nqxm690JL\"gH9PtQnGF.:S\n",
      "X]h3lY2a.V\n",
      "xdg_q_K(u?fXbYm4_]yH'988C0WnhUwzM3:F_S&f*k[,(y6d(Gx7e2X*:?mu[wNDrjZ;(y\n",
      "USo5HEv4.,Z2U*y\n",
      "E6!nk2rY\n"
     ]
    }
   ],
   "source": [
    "class BigramLanguageModel(nn.Module):\n",
    "    def __init__(self, vocab_size):\n",
    "        super().__init__()\n",
    "        self.token_embedding_table = nn.Embedding(vocab_size, vocab_size)\n",
    "        \n",
    "    def forward(self, index, targets=None):\n",
    "        logits = self.token_embedding_table(index)\n",
    "        \n",
    "        \n",
    "        if targets is None:\n",
    "            loss = None\n",
    "        else:\n",
    "            B, T, C = logits.shape\n",
    "            logits = logits.view(B*T, C)\n",
    "            targets = targets.view(B*T)\n",
    "            loss = F.cross_entropy(logits, targets)\n",
    "        \n",
    "        return logits, loss\n",
    "    \n",
    "    def generate(self, index, max_new_tokens):\n",
    "        # index is (B, T) array of indices in the current context\n",
    "        for _ in range(max_new_tokens):\n",
    "            # get the predictions\n",
    "            logits, loss = self.forward(index)\n",
    "            # focus only on the last time step\n",
    "            logits = logits[:, -1, :] # becomes (B, C)\n",
    "            # apply softmax to get probabilities\n",
    "            probs = F.softmax(logits, dim=-1) # (B, C)\n",
    "            # sample from the distribution\n",
    "            index_next = torch.multinomial(probs, num_samples=1) # (B, 1)\n",
    "            # append sampled index to the running sequence\n",
    "            index = torch.cat((index, index_next), dim=1) # (B, T+1)\n",
    "        return index\n",
    "\n",
    "model = BigramLanguageModel(vocab_size)\n",
    "m = model.to(device)\n",
    "\n",
    "context = torch.zeros((1,1), dtype=torch.long, device=device)\n",
    "generated_chars = decode(m.generate(context, max_new_tokens=500)[0].tolist())\n",
    "print(generated_chars)"
   ]
  },
  {
   "cell_type": "code",
   "execution_count": 9,
   "id": "b62af60e",
   "metadata": {},
   "outputs": [
    {
     "name": "stdout",
     "output_type": "stream",
     "text": [
      "step: 0, train loss: 4.637, val loss: 4.638\n",
      "step: 250, train loss: 4.587, val loss: 4.599\n",
      "step: 500, train loss: 4.543, val loss: 4.530\n",
      "step: 750, train loss: 4.447, val loss: 4.483\n",
      "4.2988786697387695\n"
     ]
    }
   ],
   "source": [
    "# create a PyTorch optimizer\n",
    "optimizer = torch.optim.AdamW(model.parameters(), lr=learning_rate)\n",
    "\n",
    "for iter in range(max_iters):\n",
    "    if iter % eval_iters == 0:\n",
    "        losses = estimate_loss()\n",
    "        print(f\"step: {iter}, train loss: {losses['train']:.3f}, val loss: {losses['val']:.3f}\")\n",
    "\n",
    "    # sample a batch of data\n",
    "    xb, yb = get_batch('train')\n",
    "\n",
    "    # evaluate the loss\n",
    "    logits, loss = model.forward(xb, yb)\n",
    "    optimizer.zero_grad(set_to_none=True)\n",
    "    loss.backward()\n",
    "    optimizer.step()\n",
    "print(loss.item())"
   ]
  },
  {
   "cell_type": "code",
   "execution_count": 10,
   "id": "50b18aaa",
   "metadata": {},
   "outputs": [
    {
     "name": "stdout",
     "output_type": "stream",
     "text": [
      "\n",
      "wdgi3\n",
      "UIM!5lwvfI91Hgqh\n",
      "x&_wV!acrSxmeLoARA1!U;XHcO:-texOzMZVAW?s6zZHBv-Xwy6S:c5i1\n",
      "stbh-h-[Z6!I2ypN_Kc?NN[wE(4741qaPbHM&b[4!'ap\n",
      "VN)]lGS OqSsCO-4K8NfJ;XEEC6uyDshbumxm:,iik[4[h3r\"m(P!_K.8NH0K!aRoY3:c3:tQnB:gBozQRZQ*B72V'D*f\n",
      "EU;\n",
      "64[ZLPH\n",
      "l\n",
      "O&1B1P[4(?W[ZP'SzV3[j(M GuVw'SN8tek6!J\n",
      "rS7af7aL3:fX,R(1qWXhyHt705Or\n",
      "UfX:4[w&G_e &:b\n",
      "st9]K.n*atOT1bEpl\n",
      "j&B:&GasP'8'SEpJSaITB:8aLq].(N&j\"qR7hp2e]yF4KnCm4(xi]Ds;-PNLLo\n",
      "4ur\n",
      "wRC2ff:n?VAB\"7UUuku0WZyWMt9]EII']doMlMV8A_m HkJ\"qzD!N&ZqgOqW\n",
      "p[ZfXZsW1[4hb58QBr[nOqnWO4!fUuh; kn[\n"
     ]
    }
   ],
   "source": [
    "context = torch.zeros((1,1), dtype=torch.long, device=device)\n",
    "generated_chars = decode(m.generate(context, max_new_tokens=500)[0].tolist())\n",
    "print(generated_chars)"
   ]
  }
 ],
 "metadata": {
  "kernelspec": {
   "display_name": "Python 3",
   "language": "python",
   "name": "python3"
  },
  "language_info": {
   "codemirror_mode": {
    "name": "ipython",
    "version": 3
   },
   "file_extension": ".py",
   "mimetype": "text/x-python",
   "name": "python",
   "nbconvert_exporter": "python",
   "pygments_lexer": "ipython3",
   "version": "3.13.2"
  }
 },
 "nbformat": 4,
 "nbformat_minor": 5
}
